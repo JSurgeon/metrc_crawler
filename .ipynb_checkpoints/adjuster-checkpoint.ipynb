{
 "cells": [
  {
   "cell_type": "code",
   "execution_count": 130,
   "metadata": {},
   "outputs": [],
   "source": [
    "# import dependencies\n",
    "import pandas as pd\n",
    "from splinter import Browser\n",
    "from webdriver_manager.chrome import ChromeDriverManager \n",
    "import time\n",
    "\n",
    "# import csvs\n",
    "filled_df = pd.read_csv(\"filled_df.csv\")\n",
    "gone_df = pd.read_csv(\"not_in_lab.csv\")\n",
    "\n",
    "# save today's date\n",
    "TODAY = \"01/14/2022\"\n",
    "\n",
    "# save notes\n",
    "ENTRY_ERROR = \"Performed inventory audit. Reweighed and adjusted, before storage.\"\n",
    "MOISTURE_GAIN_LOSS = \"Performed inventory audit. Reweighed and adjusted, before storage.\"\n",
    "SCALE_VAR = \"Performed inventory audit. Reweighed and adjusted, before storage.\""
   ]
  },
  {
   "cell_type": "code",
   "execution_count": 131,
   "metadata": {},
   "outputs": [],
   "source": [
    "filled_df = filled_df.drop_duplicates()"
   ]
  },
  {
   "cell_type": "code",
   "execution_count": 132,
   "metadata": {
    "scrolled": true
   },
   "outputs": [
    {
     "name": "stdout",
     "output_type": "stream",
     "text": [
      "Total Amount of cells = 261\n",
      "Amount of Cells between -3 and 3 = 140\n",
      "Amount of Cells between (3 and 100) and (-100 and -3) = 96\n",
      "Amount of Cells greater than 100 or less than -100 = 25\n",
      "Amount of Tags not in Metrc = 3\n"
     ]
    }
   ],
   "source": [
    "# Total data\n",
    "print(f'Total Amount of cells = {len(filled_df)}')\n",
    "# Data between -3 and 3\n",
    "done_df = filled_df.loc[(filled_df[\"Difference\"] <= 3)]\n",
    "done_df = done_df.loc[(done_df[\"Difference\"] >= -3)]\n",
    "print(f'Amount of Cells between -3 and 3 = {len(done_df)}')\n",
    "\n",
    "# Data between (-3 and -100) and between (3 and 100)\n",
    "yellow_df = filled_df.loc[(filled_df[\"Difference\"] > 3)]\n",
    "yellow_df = yellow_df.loc[(yellow_df[\"Difference\"] <= 100)]\n",
    "temp = filled_df.loc[(filled_df[\"Difference\"] < -3)]\n",
    "temp = temp.loc[(temp[\"Difference\"] >= -100)]\n",
    "yellow_df = yellow_df.append(temp)\n",
    "print(f'Amount of Cells between (3 and 100) and (-100 and -3) = {len(yellow_df)}')\n",
    "\n",
    "# Data greater than 100 or less than -100\n",
    "red_df = filled_df.loc[(filled_df[\"Difference\"] > 100)]\n",
    "temp = filled_df.loc[(filled_df[\"Difference\"] < -100)]\n",
    "red_df = red_df.append(temp)\n",
    "print(f'Amount of Cells greater than 100 or less than -100 = {len(red_df)}')\n",
    "\n",
    "print(f'Amount of Tags not in Metrc = {len(gone_df)}')"
   ]
  },
  {
   "cell_type": "code",
   "execution_count": 133,
   "metadata": {
    "scrolled": true
   },
   "outputs": [
    {
     "data": {
      "text/html": [
       "<div>\n",
       "<style scoped>\n",
       "    .dataframe tbody tr th:only-of-type {\n",
       "        vertical-align: middle;\n",
       "    }\n",
       "\n",
       "    .dataframe tbody tr th {\n",
       "        vertical-align: top;\n",
       "    }\n",
       "\n",
       "    .dataframe thead th {\n",
       "        text-align: right;\n",
       "    }\n",
       "</style>\n",
       "<table border=\"1\" class=\"dataframe\">\n",
       "  <thead>\n",
       "    <tr style=\"text-align: right;\">\n",
       "      <th></th>\n",
       "      <th>Tag</th>\n",
       "      <th>Item</th>\n",
       "      <th>Category</th>\n",
       "      <th>Audit Count</th>\n",
       "      <th>Current Metrc Value</th>\n",
       "      <th>Difference</th>\n",
       "      <th>Packaged Date</th>\n",
       "    </tr>\n",
       "  </thead>\n",
       "  <tbody>\n",
       "    <tr>\n",
       "      <th>0</th>\n",
       "      <td>1A401030000AC48000015104</td>\n",
       "      <td>Tozmoz, Sour Sherbert, Live Resin</td>\n",
       "      <td>Extracts</td>\n",
       "      <td>630.0</td>\n",
       "      <td>636.94</td>\n",
       "      <td>6.94</td>\n",
       "      <td>11/30/2020</td>\n",
       "    </tr>\n",
       "  </tbody>\n",
       "</table>\n",
       "</div>"
      ],
      "text/plain": [
       "                        Tag                               Item  Category  \\\n",
       "0  1A401030000AC48000015104  Tozmoz, Sour Sherbert, Live Resin  Extracts   \n",
       "\n",
       "   Audit Count  Current Metrc Value  Difference Packaged Date  \n",
       "0        630.0               636.94        6.94    11/30/2020  "
      ]
     },
     "execution_count": 133,
     "metadata": {},
     "output_type": "execute_result"
    }
   ],
   "source": [
    "# reset index of yellow_df and display\n",
    "yellow_df = yellow_df.reset_index(drop=True)\n",
    "yellow_df.head(1)"
   ]
  },
  {
   "cell_type": "code",
   "execution_count": 72,
   "metadata": {},
   "outputs": [
    {
     "name": "stderr",
     "output_type": "stream",
     "text": [
      "\n",
      "\n",
      "====== WebDriver manager ======\n",
      "Current google-chrome version is 97.0.4692\n",
      "Get LATEST chromedriver version for 97.0.4692 google-chrome\n",
      "Driver [C:\\Users\\jsurg\\.wdm\\drivers\\chromedriver\\win32\\97.0.4692.71\\chromedriver.exe] found in cache\n"
     ]
    }
   ],
   "source": [
    "# splinter setup\n",
    "executable_path = {'executable_path': ChromeDriverManager().install()}\n",
    "browser = Browser('chrome', **executable_path,headless=False)\n",
    "url = \"https://or.metrc.com/industry/030-1017201A3A9/packages\"\n",
    "\n",
    "# open browser\n",
    "browser.visit(url)\n",
    "\n",
    "# Define the username and password\n",
    "username2 = '90Z64S'\n",
    "password2 = 'Ellie1515*'\n",
    "\n",
    "# Find the user and pass form and fill it\n",
    "browser.find_by_id('username').first.fill(username2)\n",
    "browser.find_by_id('password').first.fill(password2)\n",
    "\n",
    "# Press log in\n",
    "browser.find_by_id('login_button').first.click()\n",
    "\n",
    "# Find activate button\n",
    "strip = browser.find_by_id(\"packages_tabstrip\").first\n",
    "spans = strip.find_by_tag(\"span\")\n",
    "active_button = spans[1]\n",
    "\n",
    "\n",
    "# wait, to make sure page loads, then click Active Button\n",
    "time.sleep(3)\n",
    "active_button.click()"
   ]
  },
  {
   "cell_type": "code",
   "execution_count": 123,
   "metadata": {
    "scrolled": false
   },
   "outputs": [],
   "source": [
    "# split to practice\n",
    "yellow_df = yellow_df[2:]"
   ]
  },
  {
   "cell_type": "code",
   "execution_count": 7,
   "metadata": {},
   "outputs": [],
   "source": [
    "adjusted = []\n",
    "skipped = []"
   ]
  },
  {
   "cell_type": "code",
   "execution_count": 124,
   "metadata": {
    "scrolled": true
   },
   "outputs": [
    {
     "name": "stdout",
     "output_type": "stream",
     "text": [
      "-----------------------------------------\n",
      "Tag #81\n",
      "1A401030000AC48000023020\n",
      "Tozmoz, Lemon Sour Diesel, THCA\n",
      "Audit Weight: 830.25\n",
      "Current Metrc Weight: 820.0\n",
      "Difference = -10.25\n",
      "12/9/2021\n",
      "Reason: MOISTURE_GAIN_LOSS\n",
      "Adjust or Skip?\n",
      "Adjust\n",
      "1A401030000AC48000023020 Adjusted. New Metrc Weight is 830.25. It was 820.0\n",
      "-------------count = 1 ----------------------------\n",
      "-----------------------------------------\n",
      "Tag #82\n",
      "1A401030000AC48000023252\n",
      "Sunset Dream, Live Resin, Applesauce\n",
      "Audit Weight: 2635.6\n",
      "Current Metrc Weight: 2598.0\n",
      "Difference = -37.6\n",
      "12/16/2021\n",
      "Reason: MOISTURE_GAIN_LOSS\n",
      "Adjust or Skip?\n",
      "Adjust\n",
      "1A401030000AC48000023252 Adjusted. New Metrc Weight is 2635.6. It was 2598.0\n",
      "-------------count = 2 ----------------------------\n",
      "-----------------------------------------\n",
      "Tag #83\n",
      "1A401030000AC48000023629\n",
      "Elysium Fields, Oregon Mac, Infused Pre-Roll\n",
      "Audit Weight: 1278.0\n",
      "Current Metrc Weight: 1272.0\n",
      "Difference = -6.0\n",
      "1/3/2022\n",
      "Reason: MOISTURE_GAIN_LOSS\n",
      "Adjust or Skip?\n",
      "Adjust\n",
      "1A401030000AC48000023629 Adjusted. New Metrc Weight is 1278.0. It was 1272.0\n",
      "-------------count = 3 ----------------------------\n"
     ]
    }
   ],
   "source": [
    "count = 0\n",
    "# For each Tag in yellow_tags:\n",
    "for i, row in yellow_df.iterrows():\n",
    "    count += 1\n",
    "    print(f'-----------------------------------------\\nTag #{i+1}')\n",
    "    # fing tag option button and click\n",
    "    tag_option = browser.find_by_css('a[class=\"k-header-column-menu\"]')[0]\n",
    "    tag_option.click()\n",
    "\n",
    "    # find filter button- click it\n",
    "    time.sleep(2)\n",
    "    filter_button = browser.find_by_css('span[class=\"k-icon k-i-arrow-60-right k-menu-expand-arrow\"]')[1]\n",
    "    filter_button.click()\n",
    "\n",
    "    # find text box- fill it\n",
    "    time.sleep(1)\n",
    "    browser.find_by_css('input[title=\"Filter Criteria\"]').fill(row.Tag)\n",
    "\n",
    "    # find submit button- click it\n",
    "    submit = browser.find_by_css('button[class=\"k-button k-primary\"]')\n",
    "    submit.click()\n",
    "\n",
    "    # let page load \n",
    "    time.sleep(1.5)\n",
    "\n",
    "    #######################\n",
    "    # DO WORK ON TAG HERE #\n",
    "    #######################\n",
    "\n",
    "    ################################3\n",
    "\n",
    "    # find tag and click\n",
    "    browser.find_by_css('td[role=\"gridcell\"]').first.click()\n",
    "\n",
    "    # find adjust button and click\n",
    "    browser.find_by_css('button[class=\"btn shadow js-toolbarbutton-7\"]').click()\n",
    "    time.sleep(8)\n",
    "\n",
    "    #################################\n",
    "    #### Inside adjust menu  \n",
    "\n",
    "    # find today input and fill with today's date\n",
    "    #browser.find_by_tag(\"input\")[163].fill(TODAY)\n",
    "\n",
    "    # find note element and save to variable\n",
    "    note_element = browser.find_by_css('input[name=\"model[0][ReasonNote]\"]')\n",
    "\n",
    "    #find reason selector and click\n",
    "    sel_element = browser.find_by_css('select[class=\"validate[required] ng-pristine ng-valid ng-valid-required\"]')\n",
    "\n",
    "    #####################\n",
    "    # select appropriate reason based off conditionals\n",
    "    # --- entry is select(3), moisture gain/loss is select(5), scale variance is select(8)\n",
    "    #####################\n",
    "\n",
    "    diff = row[\"Difference\"]\n",
    "    reason_used = ENTRY_ERROR\n",
    "    # entry error (diff < -50 or diff > 5)\n",
    "    if diff < -50 or diff > 5:\n",
    "        # select entry error reason\n",
    "        sel_element.select(3)\n",
    "        # add note\n",
    "        note_element.fill(ENTRY_ERROR)\n",
    "        reason_used = \"ENTRY_ERROR\"\n",
    "\n",
    "\n",
    "    # moisture loss/gain (diff < 0 and diff > -50)\n",
    "    if diff < 0 and diff > -50:\n",
    "        # select moisture loss/gain reason\n",
    "        sel_element.select(5)\n",
    "        # add note\n",
    "        note_element.fill(MOISTURE_GAIN_LOSS)\n",
    "        reason_used = \"MOISTURE_GAIN_LOSS\"\n",
    "\n",
    "    # scale variance (diff > 0 and diff < 5)\n",
    "    if diff > 0 and diff < 5:\n",
    "        # select scale variance reason\n",
    "        sel_element.select(8)\n",
    "        # add note\n",
    "        note_element.fill(SCALE_VAR)\n",
    "        reason_used = \"SCALE_VAR\"\n",
    "\n",
    "    ######\n",
    "\n",
    "    # find New Quantity element and fill with audit_count\n",
    "    quantity_element = browser.find_by_css('input[name=\"model[0][NewQuantity]\"]')\n",
    "    quantity_element.fill(str(row[\"Audit Count\"]))\n",
    "\n",
    "    print(f'{row[\"Tag\"]}\\n{row[\"Item\"]}\\nAudit Weight: {row[\"Audit Count\"]}\\nCurrent Metrc Weight: {row[\"Current Metrc Value\"]}\\nDifference = {row[\"Difference\"]}\\n{row[\"Packaged Date\"]}\\nReason: {reason_used}')\n",
    "    \n",
    "    response = 'lamba'\n",
    "    \n",
    "    while response != \"Adjust\" and response != \"Skip\":\n",
    "         response = input(\"Adjust or Skip?\\n\")\n",
    "\n",
    "    if response == \"Adjust\":\n",
    "        adjusted.append((row[\"Tag\"], row[\"Item\"], row[\"Audit Count\"], row[\"Current Metrc Value\"], row[\"Difference\"], row[\"Packaged Date\"], reason_used))\n",
    "        #adjust_btn = browser.find_by_text(\"Adjust Packages\")\n",
    "        #adjust_btn.click()\n",
    "        print(f'{row[\"Tag\"]} Adjusted. New Metrc Weight is {row[\"Audit Count\"]}. It was {row[\"Current Metrc Value\"]}')\n",
    "        \n",
    "    if response == \"Skip\": \n",
    "        skipped.append((row[\"Tag\"], row[\"Item\"], row[\"Audit Count\"], row[\"Current Metrc Value\"], row[\"Difference\"], row[\"Packaged Date\"]))\n",
    "\n",
    "        #cancel_button = browser.find_by_css('button[id=\"cancel\"]')\n",
    "        #cancel_button.click()\n",
    "        print(f'-----------------------\\n{row[\"Tag\"]} Skipped\\n-----------------------')\n",
    "    #############################################\n",
    "    # FOR NOW: find cancel button and click it #\n",
    "    #############################################\n",
    "\n",
    "    # ---- later will change to finding adjust packages button and clicking\n",
    "    #cancel_button = browser.find_by_css('button[id=\"cancel\"]')\n",
    "    #cancel_button.click()\n",
    "    ###################################################\n",
    "\n",
    "    ########################################\n",
    "    # REAL APPLICATION: have it hit adjust button\n",
    "    #adjust_btn = browser.find_by_text(\"Adjust Packages\")\n",
    "    #adjust_btn.click()\n",
    "\n",
    "    ########################################\n",
    "    # Clear search in prep for next search #\n",
    "    ########################################\n",
    "    tag_option.click()\n",
    "    time.sleep(1)\n",
    "    filter_button.click()\n",
    "\n",
    "    # find clear button and click\n",
    "    clear = browser.find_by_css('button[class=\"k-button\"]')\n",
    "    clear.click()\n",
    "\n",
    "    # let page load\n",
    "    time.sleep(1)\n",
    "    \n",
    "    print(f'-------------count = {count} ----------------------------')"
   ]
  },
  {
   "cell_type": "code",
   "execution_count": 125,
   "metadata": {},
   "outputs": [],
   "source": [
    "adjusted_df = pd.DataFrame(adjusted, columns = [\"Tag\", \"Item\", \"Audit Count\", \"Old Metrc Value\", \"Difference\", \"Packaged Date\", \"Reasoning\"])\n",
    "skipped_df = pd.DataFrame(skipped, columns = [\"Tag\", \"Item\", \"Audit Count\", \"Old Metrc Value\", \"Difference\", \"Packaged Date\"])"
   ]
  },
  {
   "cell_type": "code",
   "execution_count": 126,
   "metadata": {},
   "outputs": [],
   "source": [
    "adjusted_df = adjusted_df.append(shortened_df)"
   ]
  },
  {
   "cell_type": "code",
   "execution_count": 128,
   "metadata": {
    "scrolled": true
   },
   "outputs": [
    {
     "data": {
      "text/plain": [
       "96"
      ]
     },
     "execution_count": 128,
     "metadata": {},
     "output_type": "execute_result"
    }
   ],
   "source": [
    "len(adjusted_df)"
   ]
  },
  {
   "cell_type": "code",
   "execution_count": 129,
   "metadata": {
    "scrolled": true
   },
   "outputs": [
    {
     "data": {
      "text/plain": [
       "6"
      ]
     },
     "execution_count": 129,
     "metadata": {},
     "output_type": "execute_result"
    }
   ],
   "source": [
    "len(skipped)"
   ]
  },
  {
   "cell_type": "code",
   "execution_count": 134,
   "metadata": {
    "scrolled": true
   },
   "outputs": [
    {
     "data": {
      "text/plain": [
       "96"
      ]
     },
     "execution_count": 134,
     "metadata": {},
     "output_type": "execute_result"
    }
   ],
   "source": [
    "len(yellow_df)"
   ]
  },
  {
   "cell_type": "code",
   "execution_count": 136,
   "metadata": {},
   "outputs": [],
   "source": [
    "adjusted_df = adjusted_df.drop_duplicates()"
   ]
  },
  {
   "cell_type": "code",
   "execution_count": 138,
   "metadata": {},
   "outputs": [
    {
     "data": {
      "text/plain": [
       "94"
      ]
     },
     "execution_count": 138,
     "metadata": {},
     "output_type": "execute_result"
    }
   ],
   "source": [
    "len(adjusted_df)"
   ]
  },
  {
   "cell_type": "code",
   "execution_count": 139,
   "metadata": {},
   "outputs": [],
   "source": [
    "skipped_df = skipped_df.drop_duplicates()"
   ]
  },
  {
   "cell_type": "code",
   "execution_count": null,
   "metadata": {},
   "outputs": [],
   "source": []
  }
 ],
 "metadata": {
  "kernelspec": {
   "display_name": "Python [conda env:MetrcFill] *",
   "language": "python",
   "name": "conda-env-MetrcFill-py"
  },
  "language_info": {
   "codemirror_mode": {
    "name": "ipython",
    "version": 3
   },
   "file_extension": ".py",
   "mimetype": "text/x-python",
   "name": "python",
   "nbconvert_exporter": "python",
   "pygments_lexer": "ipython3",
   "version": "3.6.13"
  }
 },
 "nbformat": 4,
 "nbformat_minor": 4
}
