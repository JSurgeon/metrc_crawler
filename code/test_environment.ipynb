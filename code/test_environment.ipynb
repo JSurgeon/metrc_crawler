{
 "cells": [
  {
   "cell_type": "code",
   "execution_count": 1,
   "metadata": {},
   "outputs": [],
   "source": [
    "#import dependencies\n",
    "import pandas as pd\n",
    "from bs4 import BeautifulSoup\n",
    "from splinter import Browser\n",
    "from webdriver_manager.chrome import ChromeDriverManager \n",
    "import time\n",
    "from selenium.webdriver.common.keys import Keys\n",
    "import datetime\n",
    "formatted_date = datetime.date.strftime(datetime.date.today(), \"%m/%d/%Y\")\n",
    "from selenium.webdriver.common.keys import Keys\n"
   ]
  },
  {
   "cell_type": "code",
   "execution_count": 2,
   "metadata": {},
   "outputs": [],
   "source": [
    "# splinter setup\n",
    "executable_path = {'executable_path': 'C:\\\\Users\\\\jsurg\\\\.wdm\\\\drivers\\\\chromedriver\\\\win32\\\\97.0.4692.71\\\\chromedriver.exe'}\n",
    "url = \"https://or.metrc.com/industry/030-1017201A3A9/packages\"\n",
    "browser = Browser('chrome', **executable_path,headless=False)\n",
    "\n",
    "# open browser\n",
    "browser.visit(url)"
   ]
  },
  {
   "cell_type": "code",
   "execution_count": 3,
   "metadata": {},
   "outputs": [],
   "source": [
    "# Define the username and password\n",
    "username2 = '6L74O4'\n",
    "password2 = 'JMetrcS3!?'\n",
    "\n",
    "# Find the user and pass form and fill it\n",
    "browser.find_by_id('username').first.fill(username2)\n",
    "browser.find_by_id('password').first.fill(password2)\n",
    "\n",
    "# Press log in\n",
    "browser.find_by_id('login_button').first.click()\n",
    "\n"
   ]
  },
  {
   "cell_type": "code",
   "execution_count": 4,
   "metadata": {},
   "outputs": [],
   "source": [
    "# Find activate button\n",
    "strip = browser.find_by_id(\"packages_tabstrip\").first\n",
    "spans = strip.find_by_tag(\"span\")\n",
    "active_button = spans[1]\n",
    "\n",
    "# wait, to make sure page loads, then click Active Button\n",
    "active_button.click()\n",
    "time.sleep(1)"
   ]
  },
  {
   "cell_type": "markdown",
   "metadata": {},
   "source": [
    "# random testing"
   ]
  },
  {
   "cell_type": "code",
   "execution_count": 85,
   "metadata": {},
   "outputs": [],
   "source": [
    "body = browser.find_by_tag(\"tbody\")\n",
    "rows = body.find_by_css('tr[class=\"k-master-row\"]')\n",
    "rows2 = body.find_by_css('tr[class=\"k-alt k-master-row\"]')\n",
    "rows = list(rows)\n",
    "rows2 = list(rows2)\n"
   ]
  },
  {
   "cell_type": "code",
   "execution_count": 86,
   "metadata": {
    "scrolled": true
   },
   "outputs": [
    {
     "data": {
      "text/plain": [
       "20"
      ]
     },
     "execution_count": 86,
     "metadata": {},
     "output_type": "execute_result"
    }
   ],
   "source": [
    "len(rows) + len(rows2)"
   ]
  },
  {
   "cell_type": "code",
   "execution_count": 87,
   "metadata": {
    "scrolled": true
   },
   "outputs": [
    {
     "ename": "ElementClickInterceptedException",
     "evalue": "Message: element click intercepted: Element <span unselectable=\"on\" class=\"k-link\">...</span> is not clickable at point (219, 16). Other element would receive the click: <a href=\"/industry/030-1017201A3A9/transfers/licensed\" target=\"_top\">...</a>\n  (Session info: chrome=98.0.4758.82)\n",
     "output_type": "error",
     "traceback": [
      "\u001b[1;31m---------------------------------------------------------------------------\u001b[0m",
      "\u001b[1;31mElementClickInterceptedException\u001b[0m          Traceback (most recent call last)",
      "\u001b[1;32m<ipython-input-87-a921473bb21e>\u001b[0m in \u001b[0;36m<module>\u001b[1;34m\u001b[0m\n\u001b[0;32m      7\u001b[0m \u001b[0mx\u001b[0m \u001b[1;33m=\u001b[0m \u001b[0mbody\u001b[0m\u001b[1;33m.\u001b[0m\u001b[0mfind_by_text\u001b[0m\u001b[1;33m(\u001b[0m\u001b[1;34m\"History\"\u001b[0m\u001b[1;33m)\u001b[0m\u001b[1;33m\u001b[0m\u001b[1;33m\u001b[0m\u001b[0m\n\u001b[0;32m      8\u001b[0m \u001b[1;32mfor\u001b[0m \u001b[0me\u001b[0m \u001b[1;32min\u001b[0m \u001b[0mx\u001b[0m\u001b[1;33m:\u001b[0m\u001b[1;33m\u001b[0m\u001b[1;33m\u001b[0m\u001b[0m\n\u001b[1;32m----> 9\u001b[1;33m     \u001b[0me\u001b[0m\u001b[1;33m.\u001b[0m\u001b[0mclick\u001b[0m\u001b[1;33m(\u001b[0m\u001b[1;33m)\u001b[0m\u001b[1;33m\u001b[0m\u001b[1;33m\u001b[0m\u001b[0m\n\u001b[0m",
      "\u001b[1;32m~\\anaconda3\\envs\\MetrcFill\\lib\\site-packages\\splinter\\driver\\webdriver\\__init__.py\u001b[0m in \u001b[0;36mclick\u001b[1;34m(self)\u001b[0m\n\u001b[0;32m    822\u001b[0m                 \u001b[0merror\u001b[0m \u001b[1;33m=\u001b[0m \u001b[0me\u001b[0m\u001b[1;33m\u001b[0m\u001b[1;33m\u001b[0m\u001b[0m\n\u001b[0;32m    823\u001b[0m \u001b[1;33m\u001b[0m\u001b[0m\n\u001b[1;32m--> 824\u001b[1;33m         \u001b[1;32mraise\u001b[0m \u001b[0merror\u001b[0m\u001b[1;33m\u001b[0m\u001b[1;33m\u001b[0m\u001b[0m\n\u001b[0m\u001b[0;32m    825\u001b[0m \u001b[1;33m\u001b[0m\u001b[0m\n\u001b[0;32m    826\u001b[0m     \u001b[1;32mdef\u001b[0m \u001b[0mcheck\u001b[0m\u001b[1;33m(\u001b[0m\u001b[0mself\u001b[0m\u001b[1;33m)\u001b[0m\u001b[1;33m:\u001b[0m\u001b[1;33m\u001b[0m\u001b[1;33m\u001b[0m\u001b[0m\n",
      "\u001b[1;32m~\\anaconda3\\envs\\MetrcFill\\lib\\site-packages\\splinter\\driver\\webdriver\\__init__.py\u001b[0m in \u001b[0;36mclick\u001b[1;34m(self)\u001b[0m\n\u001b[0;32m    815\u001b[0m         \u001b[1;32mwhile\u001b[0m \u001b[0mtime\u001b[0m\u001b[1;33m.\u001b[0m\u001b[0mtime\u001b[0m\u001b[1;33m(\u001b[0m\u001b[1;33m)\u001b[0m \u001b[1;33m<\u001b[0m \u001b[0mend_time\u001b[0m\u001b[1;33m:\u001b[0m\u001b[1;33m\u001b[0m\u001b[1;33m\u001b[0m\u001b[0m\n\u001b[0;32m    816\u001b[0m             \u001b[1;32mtry\u001b[0m\u001b[1;33m:\u001b[0m\u001b[1;33m\u001b[0m\u001b[1;33m\u001b[0m\u001b[0m\n\u001b[1;32m--> 817\u001b[1;33m                 \u001b[1;32mreturn\u001b[0m \u001b[0mself\u001b[0m\u001b[1;33m.\u001b[0m\u001b[0m_element\u001b[0m\u001b[1;33m.\u001b[0m\u001b[0mclick\u001b[0m\u001b[1;33m(\u001b[0m\u001b[1;33m)\u001b[0m\u001b[1;33m\u001b[0m\u001b[1;33m\u001b[0m\u001b[0m\n\u001b[0m\u001b[0;32m    818\u001b[0m             except(\n\u001b[0;32m    819\u001b[0m                 \u001b[0mElementClickInterceptedException\u001b[0m\u001b[1;33m,\u001b[0m\u001b[1;33m\u001b[0m\u001b[1;33m\u001b[0m\u001b[0m\n",
      "\u001b[1;32m~\\anaconda3\\envs\\MetrcFill\\lib\\site-packages\\selenium\\webdriver\\remote\\webelement.py\u001b[0m in \u001b[0;36mclick\u001b[1;34m(self)\u001b[0m\n\u001b[0;32m     78\u001b[0m     \u001b[1;32mdef\u001b[0m \u001b[0mclick\u001b[0m\u001b[1;33m(\u001b[0m\u001b[0mself\u001b[0m\u001b[1;33m)\u001b[0m\u001b[1;33m:\u001b[0m\u001b[1;33m\u001b[0m\u001b[1;33m\u001b[0m\u001b[0m\n\u001b[0;32m     79\u001b[0m         \u001b[1;34m\"\"\"Clicks the element.\"\"\"\u001b[0m\u001b[1;33m\u001b[0m\u001b[1;33m\u001b[0m\u001b[0m\n\u001b[1;32m---> 80\u001b[1;33m         \u001b[0mself\u001b[0m\u001b[1;33m.\u001b[0m\u001b[0m_execute\u001b[0m\u001b[1;33m(\u001b[0m\u001b[0mCommand\u001b[0m\u001b[1;33m.\u001b[0m\u001b[0mCLICK_ELEMENT\u001b[0m\u001b[1;33m)\u001b[0m\u001b[1;33m\u001b[0m\u001b[1;33m\u001b[0m\u001b[0m\n\u001b[0m\u001b[0;32m     81\u001b[0m \u001b[1;33m\u001b[0m\u001b[0m\n\u001b[0;32m     82\u001b[0m     \u001b[1;32mdef\u001b[0m \u001b[0msubmit\u001b[0m\u001b[1;33m(\u001b[0m\u001b[0mself\u001b[0m\u001b[1;33m)\u001b[0m\u001b[1;33m:\u001b[0m\u001b[1;33m\u001b[0m\u001b[1;33m\u001b[0m\u001b[0m\n",
      "\u001b[1;32m~\\anaconda3\\envs\\MetrcFill\\lib\\site-packages\\selenium\\webdriver\\remote\\webelement.py\u001b[0m in \u001b[0;36m_execute\u001b[1;34m(self, command, params)\u001b[0m\n\u001b[0;32m    631\u001b[0m             \u001b[0mparams\u001b[0m \u001b[1;33m=\u001b[0m \u001b[1;33m{\u001b[0m\u001b[1;33m}\u001b[0m\u001b[1;33m\u001b[0m\u001b[1;33m\u001b[0m\u001b[0m\n\u001b[0;32m    632\u001b[0m         \u001b[0mparams\u001b[0m\u001b[1;33m[\u001b[0m\u001b[1;34m'id'\u001b[0m\u001b[1;33m]\u001b[0m \u001b[1;33m=\u001b[0m \u001b[0mself\u001b[0m\u001b[1;33m.\u001b[0m\u001b[0m_id\u001b[0m\u001b[1;33m\u001b[0m\u001b[1;33m\u001b[0m\u001b[0m\n\u001b[1;32m--> 633\u001b[1;33m         \u001b[1;32mreturn\u001b[0m \u001b[0mself\u001b[0m\u001b[1;33m.\u001b[0m\u001b[0m_parent\u001b[0m\u001b[1;33m.\u001b[0m\u001b[0mexecute\u001b[0m\u001b[1;33m(\u001b[0m\u001b[0mcommand\u001b[0m\u001b[1;33m,\u001b[0m \u001b[0mparams\u001b[0m\u001b[1;33m)\u001b[0m\u001b[1;33m\u001b[0m\u001b[1;33m\u001b[0m\u001b[0m\n\u001b[0m\u001b[0;32m    634\u001b[0m \u001b[1;33m\u001b[0m\u001b[0m\n\u001b[0;32m    635\u001b[0m     \u001b[1;32mdef\u001b[0m \u001b[0mfind_element\u001b[0m\u001b[1;33m(\u001b[0m\u001b[0mself\u001b[0m\u001b[1;33m,\u001b[0m \u001b[0mby\u001b[0m\u001b[1;33m=\u001b[0m\u001b[0mBy\u001b[0m\u001b[1;33m.\u001b[0m\u001b[0mID\u001b[0m\u001b[1;33m,\u001b[0m \u001b[0mvalue\u001b[0m\u001b[1;33m=\u001b[0m\u001b[1;32mNone\u001b[0m\u001b[1;33m)\u001b[0m\u001b[1;33m:\u001b[0m\u001b[1;33m\u001b[0m\u001b[1;33m\u001b[0m\u001b[0m\n",
      "\u001b[1;32m~\\anaconda3\\envs\\MetrcFill\\lib\\site-packages\\selenium\\webdriver\\remote\\webdriver.py\u001b[0m in \u001b[0;36mexecute\u001b[1;34m(self, driver_command, params)\u001b[0m\n\u001b[0;32m    319\u001b[0m         \u001b[0mresponse\u001b[0m \u001b[1;33m=\u001b[0m \u001b[0mself\u001b[0m\u001b[1;33m.\u001b[0m\u001b[0mcommand_executor\u001b[0m\u001b[1;33m.\u001b[0m\u001b[0mexecute\u001b[0m\u001b[1;33m(\u001b[0m\u001b[0mdriver_command\u001b[0m\u001b[1;33m,\u001b[0m \u001b[0mparams\u001b[0m\u001b[1;33m)\u001b[0m\u001b[1;33m\u001b[0m\u001b[1;33m\u001b[0m\u001b[0m\n\u001b[0;32m    320\u001b[0m         \u001b[1;32mif\u001b[0m \u001b[0mresponse\u001b[0m\u001b[1;33m:\u001b[0m\u001b[1;33m\u001b[0m\u001b[1;33m\u001b[0m\u001b[0m\n\u001b[1;32m--> 321\u001b[1;33m             \u001b[0mself\u001b[0m\u001b[1;33m.\u001b[0m\u001b[0merror_handler\u001b[0m\u001b[1;33m.\u001b[0m\u001b[0mcheck_response\u001b[0m\u001b[1;33m(\u001b[0m\u001b[0mresponse\u001b[0m\u001b[1;33m)\u001b[0m\u001b[1;33m\u001b[0m\u001b[1;33m\u001b[0m\u001b[0m\n\u001b[0m\u001b[0;32m    322\u001b[0m             response['value'] = self._unwrap_value(\n\u001b[0;32m    323\u001b[0m                 response.get('value', None))\n",
      "\u001b[1;32m~\\anaconda3\\envs\\MetrcFill\\lib\\site-packages\\selenium\\webdriver\\remote\\errorhandler.py\u001b[0m in \u001b[0;36mcheck_response\u001b[1;34m(self, response)\u001b[0m\n\u001b[0;32m    240\u001b[0m                 \u001b[0malert_text\u001b[0m \u001b[1;33m=\u001b[0m \u001b[0mvalue\u001b[0m\u001b[1;33m[\u001b[0m\u001b[1;34m'alert'\u001b[0m\u001b[1;33m]\u001b[0m\u001b[1;33m.\u001b[0m\u001b[0mget\u001b[0m\u001b[1;33m(\u001b[0m\u001b[1;34m'text'\u001b[0m\u001b[1;33m)\u001b[0m\u001b[1;33m\u001b[0m\u001b[1;33m\u001b[0m\u001b[0m\n\u001b[0;32m    241\u001b[0m             \u001b[1;32mraise\u001b[0m \u001b[0mexception_class\u001b[0m\u001b[1;33m(\u001b[0m\u001b[0mmessage\u001b[0m\u001b[1;33m,\u001b[0m \u001b[0mscreen\u001b[0m\u001b[1;33m,\u001b[0m \u001b[0mstacktrace\u001b[0m\u001b[1;33m,\u001b[0m \u001b[0malert_text\u001b[0m\u001b[1;33m)\u001b[0m\u001b[1;33m\u001b[0m\u001b[1;33m\u001b[0m\u001b[0m\n\u001b[1;32m--> 242\u001b[1;33m         \u001b[1;32mraise\u001b[0m \u001b[0mexception_class\u001b[0m\u001b[1;33m(\u001b[0m\u001b[0mmessage\u001b[0m\u001b[1;33m,\u001b[0m \u001b[0mscreen\u001b[0m\u001b[1;33m,\u001b[0m \u001b[0mstacktrace\u001b[0m\u001b[1;33m)\u001b[0m\u001b[1;33m\u001b[0m\u001b[1;33m\u001b[0m\u001b[0m\n\u001b[0m\u001b[0;32m    243\u001b[0m \u001b[1;33m\u001b[0m\u001b[0m\n\u001b[0;32m    244\u001b[0m     \u001b[1;32mdef\u001b[0m \u001b[0m_value_or_default\u001b[0m\u001b[1;33m(\u001b[0m\u001b[0mself\u001b[0m\u001b[1;33m,\u001b[0m \u001b[0mobj\u001b[0m\u001b[1;33m,\u001b[0m \u001b[0mkey\u001b[0m\u001b[1;33m,\u001b[0m \u001b[0mdefault\u001b[0m\u001b[1;33m)\u001b[0m\u001b[1;33m:\u001b[0m\u001b[1;33m\u001b[0m\u001b[1;33m\u001b[0m\u001b[0m\n",
      "\u001b[1;31mElementClickInterceptedException\u001b[0m: Message: element click intercepted: Element <span unselectable=\"on\" class=\"k-link\">...</span> is not clickable at point (219, 16). Other element would receive the click: <a href=\"/industry/030-1017201A3A9/transfers/licensed\" target=\"_top\">...</a>\n  (Session info: chrome=98.0.4758.82)\n"
     ]
    }
   ],
   "source": [
    "expanders1 = [element.find_by_css('a[class=\"k-icon k-i-expand\"]') for element in rows]\n",
    "expanders2 = [element.find_by_css('a[class=\"k-icon k-i-expand\"]') for element in rows2]\n",
    "for i in range(10): # will only work for set amount so far (this is for a full page of 20 ie 10 reps)\n",
    "    expanders1[i].click()\n",
    "    expanders2[i].click()\n"
   ]
  },
  {
   "cell_type": "code",
   "execution_count": 89,
   "metadata": {},
   "outputs": [],
   "source": [
    "# ONLY WORKS IF WE SCROLL BACK TO THE TOP OF THE PAGE\n",
    "\n",
    "x = body.find_by_text(\"History\")\n",
    "for e in x:\n",
    "    e.click()    "
   ]
  },
  {
   "cell_type": "code",
   "execution_count": 84,
   "metadata": {},
   "outputs": [],
   "source": []
  },
  {
   "cell_type": "code",
   "execution_count": null,
   "metadata": {},
   "outputs": [],
   "source": []
  },
  {
   "cell_type": "code",
   "execution_count": null,
   "metadata": {},
   "outputs": [],
   "source": [
    "# search item\n",
    "# for each row:\n",
    "    # expand history\n",
    "    # wait to load\n",
    "    # "
   ]
  },
  {
   "cell_type": "markdown",
   "metadata": {},
   "source": [
    "# Adjust Multiple Packages"
   ]
  },
  {
   "cell_type": "code",
   "execution_count": 93,
   "metadata": {},
   "outputs": [],
   "source": [
    "def adjust_multi_packages():\n",
    "    \n",
    "    # create sufficient amount of package boxes\n",
    "    browser.find_by_css('input[class= \"span2 ng-pristine ng-valid ng-valid-number ng-valid-min\"]').fill(2)\n",
    "    browser.find_by_css('span[class=\"icon-plus\"]').click()\n",
    "\n",
    "    # unit\n",
    "    browser.find_by_css('select[class=\"span4 ng-pristine ng-valid\"]').click()\n",
    "    for i in range(4): # grams is 4 down\n",
    "        active = browser.driver.switch_to.active_element\n",
    "        active.send_keys(Keys.ARROW_DOWN)\n",
    "    active.send_keys(Keys.ENTER)\n",
    "    active.send_keys(Keys.TAB)\n",
    "    active = browser.driver.switch_to.active_element\n",
    "    active.send_keys(Keys.ENTER)\n",
    "\n",
    "    # reason \n",
    "    browser.find_by_css('select[class=\"span5 ng-pristine ng-valid\"]').click()\n",
    "    active = browser.driver.switch_to.active_element\n",
    "    for i in range(5): # in-house is 5 down\n",
    "        active = browser.driver.switch_to.active_element\n",
    "        active.send_keys(Keys.ARROW_DOWN)\n",
    "    active.send_keys(Keys.ENTER)\n",
    "    active.send_keys(Keys.TAB)\n",
    "    active = browser.driver.switch_to.active_element\n",
    "    active.send_keys(Keys.ENTER)\n",
    "\n",
    "    # note\n",
    "    browser.find_by_css('input[ng-model=\"template.ReasonNote\"]').fill(\"text\")\n",
    "    active = browser.driver.switch_to.active_element\n",
    "    active.send_keys(Keys.TAB)\n",
    "    active = browser.driver.switch_to.active_element\n",
    "    active.send_keys(Keys.ENTER)\n",
    "\n",
    "    # today's date\n",
    "    browser.find_by_text('today').click()\n",
    "    active = browser.driver.switch_to.active_element\n",
    "    active.send_keys(Keys.TAB)\n",
    "    active = browser.driver.switch_to.active_element\n",
    "    active.send_keys(Keys.ENTER)\n",
    "    \n",
    "    for i in range(3):\n",
    "        # package textbox\n",
    "        browser.find_by_css(f'input[class=\"js-validated-element js-typeaheadsearchorder-{i} validate[required]\"]').fill(24989 + i)\n",
    "        browser.driver.switch_to.active_element.send_keys(Keys.ENTER)\n",
    "        # new quantity text box\n",
    "        browser.find_by_css(f'input[name=\"model[{i}][NewQuantity]\"]').fill(i)\n",
    "\n",
    "        "
   ]
  },
  {
   "cell_type": "code",
   "execution_count": 94,
   "metadata": {},
   "outputs": [],
   "source": [
    "adjust_multi_packages()"
   ]
  },
  {
   "cell_type": "markdown",
   "metadata": {},
   "source": [
    "# Item Search Method"
   ]
  },
  {
   "cell_type": "code",
   "execution_count": 66,
   "metadata": {},
   "outputs": [],
   "source": [
    "def item_search(to_search):\n",
    "        '''\n",
    "        Searches for a tag number. Returns a 1 if successful, 0 if not. \n",
    "        Leaves the browser at the page resulting from the search\n",
    "        ''' \n",
    "\n",
    "        if(type(to_search) != str):\n",
    "            return 0 \n",
    "\n",
    "        # find tag option --> check for active tag search button using try-except blocks\n",
    "        try:\n",
    "            tag_option = browser.find_by_css('a[class=\"k-header-column-menu\"]')[5]\n",
    "\n",
    "            tag_option.click()\n",
    "            time.sleep(1)\n",
    "\n",
    "            # find filter tab option and click\n",
    "            filter_button = browser.find_by_css('span[class=\"k-icon k-i-arrow-60-right k-menu-expand-arrow\"]')[1]\n",
    "            filter_button.click()\n",
    "            time.sleep(1)\n",
    "        \n",
    "        except:\n",
    "            tag_option = browser.find_by_css('a[class=\"k-header-column-menu k-state-active\"]')[0]\n",
    "\n",
    "            tag_option.click()\n",
    "            time.sleep(1)\n",
    "\n",
    "            # find filter tab option and click\n",
    "            filter_button = browser.find_by_css('span[class=\"k-icon k-i-arrow-60-right k-menu-expand-arrow\"]')[1]\n",
    "            filter_button.click()\n",
    "            time.sleep(1)\n",
    "\n",
    "        # find text box and fill it with passed tag\n",
    "        browser.find_by_css('input[title=\"Filter Criteria\"]').fill(to_search)\n",
    "\n",
    "        # find submit button and click it\n",
    "        submit = browser.find_by_css('button[class=\"k-button k-primary\"]')\n",
    "        submit.click()\n",
    "\n",
    "        # wait before returning- allows page to load- serving up properly\n",
    "        time.sleep(1)\n",
    "        return 1"
   ]
  },
  {
   "cell_type": "code",
   "execution_count": 68,
   "metadata": {},
   "outputs": [
    {
     "data": {
      "text/plain": [
       "1"
      ]
     },
     "execution_count": 68,
     "metadata": {},
     "output_type": "execute_result"
    }
   ],
   "source": [
    "item_search(\"Agent Orange Fresh Frozen\")"
   ]
  },
  {
   "cell_type": "markdown",
   "metadata": {},
   "source": [
    "# Adjust Package Method"
   ]
  },
  {
   "cell_type": "code",
   "execution_count": 27,
   "metadata": {},
   "outputs": [],
   "source": [
    "def adjust_package(tag, amount, unit, reason, date):\n",
    "    \n",
    "    # INSERT self.find_tag(tag)\n",
    "    \n",
    "    # find tag and click\n",
    "    browser.find_by_css('td[role=\"gridcell\"]').first.click()\n",
    "\n",
    "    # find adjust button and click\n",
    "    browser.find_by_css('button[class=\"btn shadow js-toolbarbutton-7\"]').click()\n",
    "    time.sleep(8)\n",
    "\n",
    "    #################################\n",
    "    #### Inside adjust menu  \n",
    "    \n",
    "    # try fill with date\n",
    "    try:\n",
    "        browser.find_by_css('input[class=\"validate[required,custom[dateFormat]] datepicker span3 ng-pristine ng-invalid ng-invalid-required\"]').fill(date)\n",
    "    except:\n",
    "        # wait 5 seconds and try again\n",
    "        time.sleep(5)\n",
    "        browser.find_by_css('input[class=\"validate[required,custom[dateFormat]] datepicker span3 ng-pristine ng-invalid ng-invalid-required\"]').fill(date)\n",
    "\n",
    "    # find note element and fill with reason\n",
    "    browser.find_by_css('input[name=\"model[0][ReasonNote]\"]').fill(reason)\n",
    "\n",
    " \n",
    "    # find New Quantity element and fill with amount\n",
    "    browser.find_by_css('input[name=\"model[0][NewQuantity]\"]').fill(amount)\n",
    "    \n",
    "    #################################\n",
    "    # Needed Functionality \n",
    "    # ~~~~~~~~~~~~~~~~~~~~ \n",
    "    # 1. fill reason list with appropriate reason\n",
    "        ##find reason selector and click\n",
    "        #sel_element = browser.find_by_css('select[class=\"validate[required] ng-pristine ng-valid ng-valid-required\"]').click()\n",
    "\n",
    "    "
   ]
  },
  {
   "cell_type": "markdown",
   "metadata": {},
   "source": [
    "# New Package Method"
   ]
  },
  {
   "cell_type": "code",
   "execution_count": 41,
   "metadata": {},
   "outputs": [],
   "source": [
    "def new_package(tag, amount, loc, unit = \"Grams\", same_item = False, next_avail=True, prod_batch = False):\n",
    "    '''\n",
    "    Creates a new package out of the tag passed, with the value of amount.\n",
    "    Return new tag number if successful, 0 otherwise\n",
    "    Asks user to confirm information before making package\n",
    "    Leaves browswer at package view\n",
    "    '''\n",
    "    try:\n",
    "        # find tag row and click\n",
    "        browser.find_by_css('td[role=\"gridcell\"]').first.click()\n",
    "\n",
    "        # find new package button and click\n",
    "        browser.find_by_css('button[class=\"btn shadow js-toolbarbutton-1\"]').click()\n",
    "        time.sleep(7)\n",
    "\n",
    "        try:\n",
    "            if next_avail:\n",
    "\n",
    "                # find tag search button and click\n",
    "                browser.find_by_css('button[class=\"js-tagsearch-0 btn js-tagsearch\"]').click()\n",
    "\n",
    "                # wait one second\n",
    "                time.sleep(1)\n",
    "\n",
    "                # find next available tag and click\n",
    "                browser.find_by_text('CannabisPackage')[0].click()\n",
    "\n",
    "                # find select button and click\n",
    "                browser.find_by_css('button[id=\"entityselector-ok-button\"]').click()\n",
    "\n",
    "            else:\n",
    "                # find new tag text and fill with user input\n",
    "                        # NEED TO ADD CHECK FOR VALID INPUT (IE, DOES THAT NEW TAG EXIST?)\n",
    "                browser.find_by_css('input[class=\"js-validated-element validate[required] ng-dirty ng-invalid ng-invalid-required\"]').fill(input(\"New Tag Number: \"))\n",
    "\n",
    "        except Exception as e:\n",
    "            print(\"New Package page not loaded, trying to fill data again in 5 secs\")\n",
    "            time.sleep(5)\n",
    "            # find tag search button and click\n",
    "            browser.find_by_css('button[class=\"js-tagsearch-0 btn js-tagsearch\"]').click()\n",
    "\n",
    "            # wait one second\n",
    "            time.sleep(1)\n",
    "\n",
    "            # find next available tag and click\n",
    "            browser.find_by_text('CannabisPackage')[0].click()\n",
    "\n",
    "            # find select button and click\n",
    "            browser.find_by_css('button[id=\"entityselector-ok-button\"]').click()\n",
    "\n",
    "        # Go to next element: location\n",
    "        time.sleep(.1)\n",
    "        active_web_element = browser.driver.switch_to.active_element\n",
    "        time.sleep(.25)\n",
    "        for i in range(3):\n",
    "            active_web_element.send_keys(Keys.TAB)\n",
    "            active_web_element = browser.driver.switch_to.active_element\n",
    "            time.sleep(.1)\n",
    "\n",
    "        # Fill location\n",
    "\n",
    "        active_web_element = browser.driver.switch_to.active_element\n",
    "        time.sleep(.1)\n",
    "        active_web_element.send_keys(loc)\n",
    "        time.sleep(.1)\n",
    "        active_web_element.send_keys(Keys.ENTER)\n",
    "\n",
    "        ##########################################\n",
    "        #### default behavior for now on ITEM\n",
    "        # switch to next element: item        \n",
    "        active_web_element.send_keys(Keys.ENTER)\n",
    "        active_web_element = browser.driver.switch_to.active_element\n",
    "        time.sleep(.1)\n",
    "        for i in range(2):\n",
    "            active_web_element.send_keys(Keys.TAB)\n",
    "            active_web_element = browser.driver.switch_to.active_element\n",
    "            time.sleep(.1)\n",
    "        # click same item\n",
    "        active_web_element.click()\n",
    "        ##########################################\n",
    "\n",
    "        # switch to next element: quantity unit\n",
    "        for i in range(2):\n",
    "            active_web_element.send_keys(Keys.TAB)\n",
    "            active_web_element = browser.driver.switch_to.active_element\n",
    "            time.sleep(.1)\n",
    "        # fill unit measure--- default behavior is grams\n",
    "        active_web_element.send_keys(unit)\n",
    "        time.sleep(.1)\n",
    "        active_web_element.send_keys(Keys.ENTER)\n",
    "        # fill quantities\n",
    "        for i in range(2):\n",
    "            browser.find_by_css('input[class=\"validate[required,custom[number],min[0.0001]] span3 ng-pristine ng-valid-number ng-valid-min ng-invalid ng-invalid-required\"]').fill(amount)\n",
    "\n",
    "\n",
    "        # fill date\n",
    "        formatted_date = datetime.date.strftime(datetime.date.today(), \"%m/%d/%Y\")\n",
    "        browser.find_by_css('input[name=\"model[0][ActualDate]\"]').fill(formatted_date)\n",
    "\n",
    "        print(\"Please Submit or Cancel New Package\")\n",
    "        ##############\n",
    "        # NEXT STEPS #\n",
    "        ##############\n",
    "        # 1. conditionals to check production batch + fill if needed\n",
    "        # 2. check for same_item bool and do proper functionality\n",
    "\n",
    "        # to dos: conditional for items, conditional for today, \n",
    "        return 1\n",
    "\n",
    "    except Exception as e:\n",
    "        print(f'exception raised:\\n{e}')\n",
    "        return 0"
   ]
  },
  {
   "cell_type": "code",
   "execution_count": 40,
   "metadata": {},
   "outputs": [
    {
     "name": "stdout",
     "output_type": "stream",
     "text": [
      "Please Submit or Cancel New Package\n"
     ]
    },
    {
     "data": {
      "text/plain": [
       "1"
      ]
     },
     "execution_count": 40,
     "metadata": {},
     "output_type": "execute_result"
    }
   ],
   "source": [
    "new_package(123, 456, \"Lab\")"
   ]
  },
  {
   "cell_type": "code",
   "execution_count": null,
   "metadata": {},
   "outputs": [],
   "source": []
  },
  {
   "cell_type": "code",
   "execution_count": null,
   "metadata": {},
   "outputs": [],
   "source": []
  },
  {
   "cell_type": "code",
   "execution_count": 43,
   "metadata": {},
   "outputs": [],
   "source": [
    "browser.find_by_xpath('//input[@class=\"js-validated-element validate[required] ng-dirty ng-invalid ng-invalid-required\"]')\n",
    "active_web_element = browser.driver.switch_to.active_element\n",
    "active_web_element.send_keys(\"Lab\")\n",
    "time.sleep(2)\n",
    "active_web_element.send_keys(Keys.TAB)\n",
    "time.sleep(2)\n",
    "active_web_element.send_keys(Keys.ENTER)\n",
    "time.sleep(2)\n",
    "active_web_element = browser.driver.switch_to.active_element\n",
    "time.sleep(1)\n",
    "active_web_element.send_keys(\"yup\")"
   ]
  },
  {
   "cell_type": "code",
   "execution_count": null,
   "metadata": {},
   "outputs": [],
   "source": [
    "browser.find_by_css('input[class=\"js-validated-element validate[required] ng-dirty ng-invalid ng-invalid-required\"]').fill(input(\"New Tag Number: \"))\n"
   ]
  },
  {
   "cell_type": "code",
   "execution_count": 20,
   "metadata": {},
   "outputs": [],
   "source": [
    "browser.find_by_css('input[class=\"js-validated-element validate[required] ng-pristine ng-invalid ng-invalid-required\"]').fill(\"Lab\")\n",
    "#browser.find_by_css('a[class=\"ng-scope ng-binding\"]').click()"
   ]
  },
  {
   "cell_type": "markdown",
   "metadata": {},
   "source": [
    "# Waste Method"
   ]
  },
  {
   "cell_type": "code",
   "execution_count": null,
   "metadata": {},
   "outputs": [],
   "source": [
    "def waste_tag(tag):\n",
    "    # TAG_SEARCH\n",
    "    "
   ]
  },
  {
   "cell_type": "code",
   "execution_count": null,
   "metadata": {},
   "outputs": [],
   "source": []
  },
  {
   "cell_type": "code",
   "execution_count": null,
   "metadata": {},
   "outputs": [],
   "source": []
  },
  {
   "cell_type": "code",
   "execution_count": null,
   "metadata": {},
   "outputs": [],
   "source": []
  },
  {
   "cell_type": "markdown",
   "metadata": {},
   "source": [
    "# QC Split Method"
   ]
  },
  {
   "cell_type": "code",
   "execution_count": 91,
   "metadata": {},
   "outputs": [],
   "source": [
    "def qc_split(tag):\n",
    "    '''QC Split Method'''\n",
    "    # insert self.tag_search(tag) \n",
    "    \n",
    "    ###########################\n",
    "    # create two new packages #\n",
    "    ###########################\n",
    "    \n",
    "    # find tag and click\n",
    "    browser.find_by_css('td[role=\"gridcell\"]').first.click()\n",
    "\n",
    "    # find new package button and click\n",
    "    browser.find_by_css('button[class=\"btn shadow js-toolbarbutton-1\"]').click()\n",
    "    time.sleep(15)\n",
    "    \n",
    "    # find add another package button and click\n",
    "    browser.find_by_css('button[class=\"btn btn-info btn-small\"]').click()\n",
    "    \n",
    "    # find template tag search button and click\n",
    "    browser.find_by_css('button[class=\"btn js-templatetagsearch\"]').click()\n",
    "    time.sleep(1)\n",
    "    \n",
    "    # find next available tag and click\n",
    "    browser.find_by_text('CannabisPackage')[0].click()\n",
    "    \n",
    "    # find select and click\n",
    "    browser.find_by_css('button[id=\"entityselector-ok-button\"]').click()\n",
    "    \n",
    "    # apply tag sequence\n",
    "    browser.find_by_css('button[class=\"btn btn-success\"]').click()\n",
    "    \n",
    "    #####################\n",
    "    # Next Steps\n",
    "    # Fill template and apply to all: location, item, unit of measure, package to pull from, quantity to pull + units, \n",
    "    #                                 package date, production batch\n",
    "    # \n",
    "    \n",
    "    # find adjust button and click\n",
    "    # browser.find_by_css('button[class=\"btn shadow js-toolbarbutton-7\"]').click()\n",
    "    # time.sleep(8)"
   ]
  },
  {
   "cell_type": "code",
   "execution_count": 90,
   "metadata": {},
   "outputs": [
    {
     "name": "stdout",
     "output_type": "stream",
     "text": [
      "0 Select\n"
     ]
    }
   ],
   "source": [
    "y = browser.find_by_css('button[id=\"entityselector-ok-button\"]')\n",
    "x = browser.find_by_text('CannabisPackage')\n",
    "for i, v in enumerate(y):\n",
    "    print(i,v.value)\n",
    "\n",
    "x[0].click()\n",
    "y.click()\n",
    "\n",
    "browser.find_by_css('button[class=\"btn btn-success\"]').click()"
   ]
  },
  {
   "cell_type": "code",
   "execution_count": 92,
   "metadata": {},
   "outputs": [],
   "source": [
    "qc_split(25)"
   ]
  },
  {
   "cell_type": "code",
   "execution_count": null,
   "metadata": {},
   "outputs": [],
   "source": []
  },
  {
   "cell_type": "markdown",
   "metadata": {},
   "source": [
    "# Grab Info Method"
   ]
  },
  {
   "cell_type": "code",
   "execution_count": 5,
   "metadata": {},
   "outputs": [],
   "source": [
    "def grab_info(tag, history = False, lab_results = False):\n",
    "    # insert self.tag_search\n",
    "    \n",
    "    try:\n",
    "        td_element = browser.find_by_tag('td') \n",
    "        value, unit = td_element[26].value.split(\" \")\n",
    "        info = {\n",
    "            \"tag\" : td_element[1].value, \n",
    "            \"source\" : td_element[2].value, \n",
    "            \"loc\" : td_element[4].value, \n",
    "            \"item\" : td_element[6].value, \n",
    "            \"category\" : td_element[8].value, \n",
    "            \"value\" : value,\n",
    "            \"unit\" : unit,\n",
    "            \"prod batch\" : td_element[29].value, \n",
    "            \"testing\" : td_element[31].value, \n",
    "            \"pack date\" : td_element[43].value\n",
    "        }\n",
    "    \n",
    "    except:\n",
    "        return None\n",
    "    \n",
    "    # asking for history or lab result\n",
    "    if(history or lab_results):\n",
    "        \n",
    "        # click expander\n",
    "        expander = browser.find_by_css('a[class=\"k-icon k-i-expand\"]')\n",
    "        expander.click()\n",
    "        \n",
    "        # history info\n",
    "        if(history):\n",
    "            browser.find_by_css('span[class=\"k-link\"]')[7].click()\n",
    "            ### grab data\n",
    "            \n",
    "        if(lab_results):\n",
    "            browser.find_by_css('span[class=\"k-link\"]')[6].click()\n",
    "            ### grab data\n",
    "\n",
    "    else:\n",
    "        history_results = None\n",
    "        lab_results = None\n",
    "        \n",
    "    # need to figure out how i want to return data if history/labs are requested\n",
    "    return info   \n"
   ]
  },
  {
   "cell_type": "code",
   "execution_count": 6,
   "metadata": {},
   "outputs": [],
   "source": [
    "info = grab_info(\"2444\",lab_results=True)"
   ]
  },
  {
   "cell_type": "code",
   "execution_count": 7,
   "metadata": {},
   "outputs": [
    {
     "data": {
      "text/plain": [
       "{'tag': '1A401030000AC48000024482',\n",
       " 'source': 'Orange Apricot Mac 10/15',\n",
       " 'loc': 'Lab Area',\n",
       " 'item': 'Alter Farms, Orange Apricot Mac, Fresh Frozen',\n",
       " 'category': 'Buds',\n",
       " 'value': '15',\n",
       " 'unit': 'lb',\n",
       " 'prod batch': '',\n",
       " 'testing': 'NotSubmitted',\n",
       " 'pack date': '01/25/2022'}"
      ]
     },
     "execution_count": 7,
     "metadata": {},
     "output_type": "execute_result"
    }
   ],
   "source": [
    "info"
   ]
  },
  {
   "cell_type": "code",
   "execution_count": 53,
   "metadata": {},
   "outputs": [
    {
     "name": "stdout",
     "output_type": "stream",
     "text": [
      "0 Active\n",
      "1 On Hold\n",
      "2 Inactive\n",
      "3 |\n",
      "4 In Transit\n",
      "5 \n",
      "6 Lab Results\n",
      "7 History\n",
      "8 \n",
      "9 \n",
      "10 \n",
      "11 \n"
     ]
    }
   ],
   "source": [
    "x = browser.find_by_css('span[class=\"k-link\"]')\n",
    "for i,v in enumerate(x):\n",
    "    print(i,v.value)"
   ]
  },
  {
   "cell_type": "markdown",
   "metadata": {},
   "source": [
    "# SCRAPE CODE"
   ]
  },
  {
   "cell_type": "code",
   "execution_count": null,
   "metadata": {},
   "outputs": [],
   "source": [
    "# Import Excel info into Dataframe\n",
    "df = pd.read_csv(\"Yellow_Marked.csv\")\n",
    "\n",
    "# Pull Tag info from df\n",
    "tags = df.Tag"
   ]
  },
  {
   "cell_type": "code",
   "execution_count": null,
   "metadata": {},
   "outputs": [],
   "source": [
    "metrc_currs = []\n",
    "audit_counts = []\n",
    "differences = []\n",
    "tags = []\n",
    "categories = []\n",
    "items = []\n",
    "pack_dates = []\n",
    "not_in_metrc = []"
   ]
  },
  {
   "cell_type": "code",
   "execution_count": null,
   "metadata": {},
   "outputs": [],
   "source": [
    "# dict to track which try blocks fail\n",
    "try_dict = {\n",
    "    \"tag_option\": 0,\n",
    "    \"filter_button\" : 0,\n",
    "    \"filter_fill\": 0,\n",
    "    \"submit_click\" : 0,\n",
    "    \"data_scrape\": 0,\n",
    "    \"tag_option2\" : 0,\n",
    "    \"filter_button2\": 0,\n",
    "    \"clear\" : 0,\n",
    "    \"skipped_rows\" : 0\n",
    "}\n",
    "\n",
    "# list to hold skipped_rows\n",
    "skipped_rows = []\n",
    "\n",
    "# iterate through list of tags\n",
    "for i, row in df.iterrows():\n",
    "    try:\n",
    "        if i%10 == 0:\n",
    "            print(i)\n",
    "            \n",
    "        # fing tag option button and click\n",
    "        tag_option = browser.find_by_css('a[class=\"k-header-column-menu\"]')[0]\n",
    "\n",
    "        try:\n",
    "            tag_option.click()\n",
    "        except:\n",
    "            try_dict[\"tag_option\"] += 1\n",
    "            time.sleep(3)\n",
    "            tag_option.click()\n",
    "        \n",
    "        \n",
    "        # find filter button- click it\n",
    "        time.sleep(.5)\n",
    "\n",
    "        try:\n",
    "            filter_button = browser.find_by_css('span[class=\"k-icon k-i-arrow-60-right k-menu-expand-arrow\"]')[1]\n",
    "            filter_button.click()\n",
    "        \n",
    "        except:\n",
    "            try_dict[\"filter_button\"] += 1\n",
    "            time.sleep(3)\n",
    "            filter_button = browser.find_by_css('span[class=\"k-icon k-i-arrow-60-right k-menu-expand-arrow\"]')[1]\n",
    "            filter_button.click()\n",
    "\n",
    "\n",
    "        # find text box- fill it\n",
    "        time.sleep(1.25)\n",
    "\n",
    "        try:\n",
    "            browser.find_by_css('input[title=\"Filter Criteria\"]').fill(row.Tag)\n",
    "        except:\n",
    "            try_dict[\"filter_fill\"] += 1\n",
    "            time.sleep(3)\n",
    "            browser.find_by_css('input[title=\"Filter Criteria\"]').fill(row.Tag)\n",
    "\n",
    "            \n",
    "        # find submit button- click it\n",
    "        try:\n",
    "            submit = browser.find_by_css('button[class=\"k-button k-primary\"]')\n",
    "            submit.click()\n",
    "       \n",
    "        except:\n",
    "            try_dict[\"submit_click\"] += 1\n",
    "            time.sleep(3)\n",
    "            submit = browser.find_by_css('button[class=\"k-button k-primary\"]')\n",
    "            submit.click()\n",
    "\n",
    "\n",
    "        # let page load \n",
    "        time.sleep(3)\n",
    "\n",
    "\n",
    "        #### \n",
    "        # DO WORK ON TAG HERE\n",
    "        ####\n",
    "\n",
    "        try:\n",
    "            # grab current Metrc amount \n",
    "            curr_value = browser.find_by_css('td[role=\"gridcell\"]')[25].value\n",
    "            curr_value = float(curr_value.split()[0].replace(',',''))\n",
    "\n",
    "            # append to metrc_currs, audit_counts, differences, tags, items, categories and pack_date\n",
    "            metrc_currs.append(round(curr_value,2))\n",
    "            audit_counts.append(row[\"Audit Count\"])\n",
    "            differences.append(round(curr_value - row[\"Audit Count\"], 2))\n",
    "            tags.append(row.Tag)\n",
    "            items.append(row.Item)\n",
    "            categories.append(row.Category)\n",
    "            pack_dates.append(row[\"Packaged Date\"])\n",
    "\n",
    "        except:\n",
    "            try_dict[\"data_scrape\"] += 1\n",
    "            print(f'{row[\"Tag\"]} no longer in Metrc')\n",
    "            not_in_metrc.append((row[\"Tag\"], row[\"Item\"], row[\"Category\"], row[\"Audit Count\"], row[\"Packaged Date\"]))\n",
    "\n",
    "        # Clear search in prep for next search NEED TO ELIMINATE THIS STEP\n",
    "        try:\n",
    "            tag_option.click()\n",
    "        except:\n",
    "            try_dict[\"tag_option2\"] += 1\n",
    "            time.sleep(3)\n",
    "            tag_option.click()\n",
    "\n",
    "        time.sleep(1)\n",
    "\n",
    "        try:\n",
    "            filter_button.click()\n",
    "        except:\n",
    "            try_dict[\"filter_button2\"] += 1\n",
    "            time.sleep(3)\n",
    "            filter_button.click()\n",
    "\n",
    "        # find clear button and click NEED TO GET RID OF CLEARING-->\n",
    "                            # GO DIRECTLY TO NEXT FILTERING \n",
    "                            # tag_option = browser.find_by_css('a[class=\"k-header-column-menu k-state-active\"]')[0]\n",
    "\n",
    "        clear = browser.find_by_css('button[class=\"k-button\"]')\n",
    "\n",
    "        try:\n",
    "            clear.click()\n",
    "        except:\n",
    "            try_dict[\"clear\"] += 1\n",
    "            time.sleep(3)\n",
    "            clear.click()\n",
    "\n",
    "        # let page load\n",
    "        time.sleep(3)\n",
    "    \n",
    "    except:\n",
    "        skipped_rows.append(row)\n",
    "        try_dict[\"skipped_rows\"] += 1\n",
    "        \n",
    "        # click active button- clear anything in Tag\n",
    "        active_button.click()\n",
    "        tag_option = browser.find_by_css('a[class=\"k-header-column-menu k-state-active\"]')[0]\n",
    "        tag_option.click()\n",
    "        filter_button.click()\n",
    "        clear.click()\n",
    "\n"
   ]
  },
  {
   "cell_type": "code",
   "execution_count": null,
   "metadata": {},
   "outputs": [],
   "source": [
    "filled_df = pd.DataFrame({\n",
    "    \"Tag\" : tags,\n",
    "    \"Item\" : items,\n",
    "    \"Category\" : categories,\n",
    "    \"Audit Count\" : audit_counts,\n",
    "    \"Current Metrc Value\" : metrc_currs,\n",
    "    \"Difference\" : differences,\n",
    "    \"Packaged Date\" : pack_dates\n",
    "})\n",
    "not_in_lab =  pd.DataFrame(not_in_metrc, columns= [\"Tag\", \"Item\", \"Category\", \"Audit Count\", \"Packaged Date\"])"
   ]
  }
 ],
 "metadata": {
  "kernelspec": {
   "display_name": "Python [conda env:MetrcFill] *",
   "language": "python",
   "name": "conda-env-MetrcFill-py"
  },
  "language_info": {
   "codemirror_mode": {
    "name": "ipython",
    "version": 3
   },
   "file_extension": ".py",
   "mimetype": "text/x-python",
   "name": "python",
   "nbconvert_exporter": "python",
   "pygments_lexer": "ipython3",
   "version": "3.6.13"
  }
 },
 "nbformat": 4,
 "nbformat_minor": 4
}
